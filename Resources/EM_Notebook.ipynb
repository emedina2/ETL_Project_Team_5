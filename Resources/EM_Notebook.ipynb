{
 "metadata": {
  "language_info": {
   "codemirror_mode": {
    "name": "ipython",
    "version": 3
   },
   "file_extension": ".py",
   "mimetype": "text/x-python",
   "name": "python",
   "nbconvert_exporter": "python",
   "pygments_lexer": "ipython3",
   "version": "3.6.10-final"
  },
  "orig_nbformat": 2,
  "kernelspec": {
   "name": "python3",
   "display_name": "Python 3.6.10 64-bit",
   "metadata": {
    "interpreter": {
     "hash": "503a22c9b311e36cd139e93a259e5748283995594241e31652662e114a22704e"
    }
   }
  }
 },
 "nbformat": 4,
 "nbformat_minor": 2,
 "cells": [
  {
   "cell_type": "code",
   "execution_count": 10,
   "metadata": {},
   "outputs": [],
   "source": [
    "import requests\n",
    "import json\n",
    "import csv\n",
    "import pandas as pd\n",
    "from config import omdb_key\n",
    "from pprint import pprint"
   ]
  },
  {
   "cell_type": "code",
   "execution_count": 5,
   "metadata": {},
   "outputs": [],
   "source": [
    "#import csv\n",
    "musical_csv = \"../Resources/Musical_List.csv\""
   ]
  },
  {
   "cell_type": "code",
   "execution_count": 6,
   "metadata": {},
   "outputs": [
    {
     "output_type": "execute_result",
     "data": {
      "text/plain": [
       "   Rank  Released                 Movie Worldwide Box Office  \\\n",
       "0     1      2013                Frozen      $1,267,856,756    \n",
       "1     2      2017  Beauty and the Beast      $1,255,080,655    \n",
       "2     3      2017                  Coco        $798,237,597    \n",
       "3     4      2016                 Moana        $636,155,760    \n",
       "4     5      2008            Mamma Mia!        $603,604,074    \n",
       "\n",
       "  Domestic Box Office International Box Office  \n",
       "0       $400,953,009             $866,903,747   \n",
       "1       $504,014,165             $751,066,490   \n",
       "2       $210,460,015             $587,777,582   \n",
       "3       $248,757,044             $387,398,716   \n",
       "4       $144,130,063             $459,474,011   "
      ],
      "text/html": "<div>\n<style scoped>\n    .dataframe tbody tr th:only-of-type {\n        vertical-align: middle;\n    }\n\n    .dataframe tbody tr th {\n        vertical-align: top;\n    }\n\n    .dataframe thead th {\n        text-align: right;\n    }\n</style>\n<table border=\"1\" class=\"dataframe\">\n  <thead>\n    <tr style=\"text-align: right;\">\n      <th></th>\n      <th>Rank</th>\n      <th>Released</th>\n      <th>Movie</th>\n      <th>Worldwide Box Office</th>\n      <th>Domestic Box Office</th>\n      <th>International Box Office</th>\n    </tr>\n  </thead>\n  <tbody>\n    <tr>\n      <th>0</th>\n      <td>1</td>\n      <td>2013</td>\n      <td>Frozen</td>\n      <td>$1,267,856,756</td>\n      <td>$400,953,009</td>\n      <td>$866,903,747</td>\n    </tr>\n    <tr>\n      <th>1</th>\n      <td>2</td>\n      <td>2017</td>\n      <td>Beauty and the Beast</td>\n      <td>$1,255,080,655</td>\n      <td>$504,014,165</td>\n      <td>$751,066,490</td>\n    </tr>\n    <tr>\n      <th>2</th>\n      <td>3</td>\n      <td>2017</td>\n      <td>Coco</td>\n      <td>$798,237,597</td>\n      <td>$210,460,015</td>\n      <td>$587,777,582</td>\n    </tr>\n    <tr>\n      <th>3</th>\n      <td>4</td>\n      <td>2016</td>\n      <td>Moana</td>\n      <td>$636,155,760</td>\n      <td>$248,757,044</td>\n      <td>$387,398,716</td>\n    </tr>\n    <tr>\n      <th>4</th>\n      <td>5</td>\n      <td>2008</td>\n      <td>Mamma Mia!</td>\n      <td>$603,604,074</td>\n      <td>$144,130,063</td>\n      <td>$459,474,011</td>\n    </tr>\n  </tbody>\n</table>\n</div>"
     },
     "metadata": {},
     "execution_count": 6
    }
   ],
   "source": [
    "#convert csv to dataframe\n",
    "musical_movie_sales = pd.read_csv(musical_csv)\n",
    "musical_movie_sales1 = musical_movie_sales.copy()\n",
    "musical_movie_sales1.head()"
   ]
  },
  {
   "cell_type": "code",
   "execution_count": 8,
   "metadata": {},
   "outputs": [],
   "source": [
    "#set up omdb api connection\n",
    "url = \"http://www.omdbapi.com/?t=\"\n",
    "api_key_param = \"&apikey=\" + omdb_key\n"
   ]
  },
  {
   "cell_type": "code",
   "execution_count": 11,
   "metadata": {},
   "outputs": [
    {
     "output_type": "stream",
     "name": "stdout",
     "text": [
      "{'Actors': 'Kristen Bell, Idina Menzel, Jonathan Groff, Josh Gad',\n 'Awards': 'Won 2 Oscars. Another 79 wins & 60 nominations.',\n 'BoxOffice': '$400,953,009',\n 'Country': 'USA, Norway',\n 'DVD': '15 Nov 2015',\n 'Director': 'Chris Buck, Jennifer Lee',\n 'Genre': 'Animation, Adventure, Comedy, Family, Fantasy, Musical',\n 'Language': 'English, Norwegian',\n 'Metascore': '75',\n 'Plot': 'When the newly crowned Queen Elsa accidentally uses her power to '\n         'turn things into ice to curse her home in infinite winter, her '\n         'sister Anna teams up with a mountain man, his playful reindeer, and '\n         'a snowman to change the weather condition.',\n 'Poster': 'https://m.media-amazon.com/images/M/MV5BMTQ1MjQwMTE5OF5BMl5BanBnXkFtZTgwNjk3MTcyMDE@._V1_SX300.jpg',\n 'Production': 'Walt Disney Animation',\n 'Rated': 'PG',\n 'Ratings': [{'Source': 'Internet Movie Database', 'Value': '7.4/10'},\n             {'Source': 'Rotten Tomatoes', 'Value': '90%'},\n             {'Source': 'Metacritic', 'Value': '75/100'}],\n 'Released': '27 Nov 2013',\n 'Response': 'True',\n 'Runtime': '102 min',\n 'Title': 'Frozen',\n 'Type': 'movie',\n 'Website': 'N/A',\n 'Writer': 'Jennifer Lee (screenplay by), Hans Christian Andersen (story '\n           'inspired by: \"The Snow Queen\" by), Chris Buck (story by), Jennifer '\n           'Lee (story by), Shane Morris (story by)',\n 'Year': '2013',\n 'imdbID': 'tt2294629',\n 'imdbRating': '7.4',\n 'imdbVotes': '575,988'}\n"
     ]
    }
   ],
   "source": [
    "#pull data from api\n",
    "response = requests.get(url + \"Frozen\" + api_key_param)\n",
    "data = response.json()\n",
    "pprint(data)"
   ]
  },
  {
   "cell_type": "code",
   "execution_count": 12,
   "metadata": {},
   "outputs": [
    {
     "output_type": "stream",
     "name": "stdout",
     "text": [
      "No Movie Frozen found\n"
     ]
    }
   ],
   "source": [
    "#Add data to dataframe using loop\n",
    "movie_data_df = []\n",
    "movie_data_df['Movie'] = \"\"\n",
    "movie_data_df['Actors'] = \"\"\n",
    "movie_data_df['Rating'] = \"\"\n",
    "movie_data_df['Director'] = \"\"\n",
    "movie_data_df['Movie'] = \"\"\n",
    "\n",
    "\n",
    "for index,row in musical_movie_sales1.iterrows():\n",
    "    try:\n",
    "        movie_name = row['Movie']\n",
    "        response = requests.get(url + movie_name + api_key_param)\n",
    "        data = response.json()\n",
    "        movie_data_df['Actors'] = data['Actors']\n",
    "\n",
    "    except:\n",
    "        print(f'No Movie {movie_name} found')\n",
    "        break"
   ]
  },
  {
   "cell_type": "code",
   "execution_count": 19,
   "metadata": {},
   "outputs": [
    {
     "output_type": "stream",
     "name": "stdout",
     "text": [
      "0 Rank                                      1\n",
      "Released                               2013\n",
      "Movie                                Frozen\n",
      "Worldwide Box Office        $1,267,856,756 \n",
      "Domestic Box Office           $400,953,009 \n",
      "International Box Office      $866,903,747 \n",
      "Name: 0, dtype: object\n",
      "Kristen Bell, Idina Menzel, Jonathan Groff, Josh Gad\n"
     ]
    },
    {
     "output_type": "error",
     "ename": "TypeError",
     "evalue": "list indices must be integers or slices, not str",
     "traceback": [
      "\u001b[0;31m---------------------------------------------------------------------------\u001b[0m",
      "\u001b[0;31mTypeError\u001b[0m                                 Traceback (most recent call last)",
      "\u001b[0;32m<ipython-input-19-ef491ffc00d7>\u001b[0m in \u001b[0;36m<module>\u001b[0;34m\u001b[0m\n\u001b[1;32m      5\u001b[0m     \u001b[0mdata\u001b[0m \u001b[0;34m=\u001b[0m \u001b[0mresponse\u001b[0m\u001b[0;34m.\u001b[0m\u001b[0mjson\u001b[0m\u001b[0;34m(\u001b[0m\u001b[0;34m)\u001b[0m\u001b[0;34m\u001b[0m\u001b[0;34m\u001b[0m\u001b[0m\n\u001b[1;32m      6\u001b[0m     \u001b[0mprint\u001b[0m\u001b[0;34m(\u001b[0m\u001b[0mdata\u001b[0m\u001b[0;34m[\u001b[0m\u001b[0;34m'Actors'\u001b[0m\u001b[0;34m]\u001b[0m\u001b[0;34m)\u001b[0m\u001b[0;34m\u001b[0m\u001b[0;34m\u001b[0m\u001b[0m\n\u001b[0;32m----> 7\u001b[0;31m     \u001b[0mmovie_data_db\u001b[0m\u001b[0;34m[\u001b[0m\u001b[0;34m'Actors'\u001b[0m\u001b[0;34m]\u001b[0m \u001b[0;34m=\u001b[0m \u001b[0;34m[\u001b[0m\u001b[0mdata\u001b[0m\u001b[0;34m[\u001b[0m\u001b[0;34m'Actors'\u001b[0m\u001b[0;34m]\u001b[0m\u001b[0;34m]\u001b[0m\u001b[0;34m\u001b[0m\u001b[0;34m\u001b[0m\u001b[0m\n\u001b[0m\u001b[1;32m      8\u001b[0m     \u001b[0mprint\u001b[0m\u001b[0;34m(\u001b[0m\u001b[0mdata\u001b[0m\u001b[0;34m[\u001b[0m\u001b[0;34m'Actors'\u001b[0m\u001b[0;34m]\u001b[0m\u001b[0;34m)\u001b[0m\u001b[0;34m\u001b[0m\u001b[0;34m\u001b[0m\u001b[0m\n",
      "\u001b[0;31mTypeError\u001b[0m: list indices must be integers or slices, not str"
     ]
    }
   ],
   "source": [
    "\n",
    "for index,row in musical_movie_sales1.iterrows():\n",
    "    print(index,row)\n",
    "    movie_name = row['Movie']\n",
    "    response = requests.get(url + movie_name + api_key_param)\n",
    "    data = response.json()\n",
    "    print(data['Actors'])\n",
    "    movie_data_db['Actors'] = data['Actors']\n",
    "    print(data['Actors'])"
   ]
  },
  {
   "cell_type": "code",
   "execution_count": null,
   "metadata": {},
   "outputs": [],
   "source": []
  }
 ]
}