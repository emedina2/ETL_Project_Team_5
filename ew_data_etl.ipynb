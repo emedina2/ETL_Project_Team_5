{
 "metadata": {
  "language_info": {
   "codemirror_mode": {
    "name": "ipython",
    "version": 3
   },
   "file_extension": ".py",
   "mimetype": "text/x-python",
   "name": "python",
   "nbconvert_exporter": "python",
   "pygments_lexer": "ipython3",
   "version": "3.8.5"
  },
  "orig_nbformat": 2,
  "kernelspec": {
   "name": "python3",
   "display_name": "Python 3.8.5 64-bit ('base': conda)",
   "metadata": {
    "interpreter": {
     "hash": "cdd2fbf79225e4a9c36d7669d9b8de571d94653c08591836200e6fca4301ed09"
    }
   }
  }
 },
 "nbformat": 4,
 "nbformat_minor": 2,
 "cells": [
  {
   "cell_type": "code",
   "execution_count": 30,
   "metadata": {},
   "outputs": [],
   "source": [
    "import pandas as pd\n",
    "from sqlalchemy import create_engine"
   ]
  },
  {
   "cell_type": "code",
   "execution_count": 31,
   "metadata": {},
   "outputs": [
    {
     "output_type": "execute_result",
     "data": {
      "text/plain": [
       "   Rank  Released                 Movie Worldwide Box Office  \\\n",
       "0     1      2013                Frozen      $1,267,856,756    \n",
       "1     2      2017  Beauty and the Beast      $1,255,080,655    \n",
       "2     3      2017                  Coco        $798,237,597    \n",
       "3     4      2016                 Moana        $636,155,760    \n",
       "4     5      2008            Mamma Mia!        $603,604,074    \n",
       "\n",
       "  Domestic Box Office International Box Office  \n",
       "0       $400,953,009             $866,903,747   \n",
       "1       $504,014,165             $751,066,490   \n",
       "2       $210,460,015             $587,777,582   \n",
       "3       $248,757,044             $387,398,716   \n",
       "4       $144,130,063             $459,474,011   "
      ],
      "text/html": "<div>\n<style scoped>\n    .dataframe tbody tr th:only-of-type {\n        vertical-align: middle;\n    }\n\n    .dataframe tbody tr th {\n        vertical-align: top;\n    }\n\n    .dataframe thead th {\n        text-align: right;\n    }\n</style>\n<table border=\"1\" class=\"dataframe\">\n  <thead>\n    <tr style=\"text-align: right;\">\n      <th></th>\n      <th>Rank</th>\n      <th>Released</th>\n      <th>Movie</th>\n      <th>Worldwide Box Office</th>\n      <th>Domestic Box Office</th>\n      <th>International Box Office</th>\n    </tr>\n  </thead>\n  <tbody>\n    <tr>\n      <th>0</th>\n      <td>1</td>\n      <td>2013</td>\n      <td>Frozen</td>\n      <td>$1,267,856,756</td>\n      <td>$400,953,009</td>\n      <td>$866,903,747</td>\n    </tr>\n    <tr>\n      <th>1</th>\n      <td>2</td>\n      <td>2017</td>\n      <td>Beauty and the Beast</td>\n      <td>$1,255,080,655</td>\n      <td>$504,014,165</td>\n      <td>$751,066,490</td>\n    </tr>\n    <tr>\n      <th>2</th>\n      <td>3</td>\n      <td>2017</td>\n      <td>Coco</td>\n      <td>$798,237,597</td>\n      <td>$210,460,015</td>\n      <td>$587,777,582</td>\n    </tr>\n    <tr>\n      <th>3</th>\n      <td>4</td>\n      <td>2016</td>\n      <td>Moana</td>\n      <td>$636,155,760</td>\n      <td>$248,757,044</td>\n      <td>$387,398,716</td>\n    </tr>\n    <tr>\n      <th>4</th>\n      <td>5</td>\n      <td>2008</td>\n      <td>Mamma Mia!</td>\n      <td>$603,604,074</td>\n      <td>$144,130,063</td>\n      <td>$459,474,011</td>\n    </tr>\n  </tbody>\n</table>\n</div>"
     },
     "metadata": {},
     "execution_count": 31
    }
   ],
   "source": [
    "musical_list = \"Resources/Musical_List.csv\"\n",
    "musical_list_df = pd.read_csv(musical_list)\n",
    "musical_list_df.head()"
   ]
  },
  {
   "cell_type": "code",
   "execution_count": 32,
   "metadata": {},
   "outputs": [
    {
     "output_type": "execute_result",
     "data": {
      "text/plain": [
       "   Unnamed: 0  ID                           Title  Year  Age  IMDb  \\\n",
       "0           0   1                       Inception  2010  13+   8.8   \n",
       "1           1   2                      The Matrix  1999  18+   8.7   \n",
       "2           2   3          Avengers: Infinity War  2018  13+   8.5   \n",
       "3           3   4              Back to the Future  1985   7+   8.5   \n",
       "4           4   5  The Good, the Bad and the Ugly  1966  18+   8.8   \n",
       "\n",
       "  Rotten Tomatoes  Netflix  Hulu  Prime Video  Disney+  Type  \\\n",
       "0             87%        1     0            0        0     0   \n",
       "1             87%        1     0            0        0     0   \n",
       "2             84%        1     0            0        0     0   \n",
       "3             96%        1     0            0        0     0   \n",
       "4             97%        1     0            1        0     0   \n",
       "\n",
       "                        Directors                            Genres  \\\n",
       "0               Christopher Nolan  Action,Adventure,Sci-Fi,Thriller   \n",
       "1  Lana Wachowski,Lilly Wachowski                     Action,Sci-Fi   \n",
       "2         Anthony Russo,Joe Russo           Action,Adventure,Sci-Fi   \n",
       "3                 Robert Zemeckis           Adventure,Comedy,Sci-Fi   \n",
       "4                    Sergio Leone                           Western   \n",
       "\n",
       "                        Country                 Language  Runtime  \n",
       "0  United States,United Kingdom  English,Japanese,French    148.0  \n",
       "1                 United States                  English    136.0  \n",
       "2                 United States                  English    149.0  \n",
       "3                 United States                  English    116.0  \n",
       "4      Italy,Spain,West Germany                  Italian    161.0  "
      ],
      "text/html": "<div>\n<style scoped>\n    .dataframe tbody tr th:only-of-type {\n        vertical-align: middle;\n    }\n\n    .dataframe tbody tr th {\n        vertical-align: top;\n    }\n\n    .dataframe thead th {\n        text-align: right;\n    }\n</style>\n<table border=\"1\" class=\"dataframe\">\n  <thead>\n    <tr style=\"text-align: right;\">\n      <th></th>\n      <th>Unnamed: 0</th>\n      <th>ID</th>\n      <th>Title</th>\n      <th>Year</th>\n      <th>Age</th>\n      <th>IMDb</th>\n      <th>Rotten Tomatoes</th>\n      <th>Netflix</th>\n      <th>Hulu</th>\n      <th>Prime Video</th>\n      <th>Disney+</th>\n      <th>Type</th>\n      <th>Directors</th>\n      <th>Genres</th>\n      <th>Country</th>\n      <th>Language</th>\n      <th>Runtime</th>\n    </tr>\n  </thead>\n  <tbody>\n    <tr>\n      <th>0</th>\n      <td>0</td>\n      <td>1</td>\n      <td>Inception</td>\n      <td>2010</td>\n      <td>13+</td>\n      <td>8.8</td>\n      <td>87%</td>\n      <td>1</td>\n      <td>0</td>\n      <td>0</td>\n      <td>0</td>\n      <td>0</td>\n      <td>Christopher Nolan</td>\n      <td>Action,Adventure,Sci-Fi,Thriller</td>\n      <td>United States,United Kingdom</td>\n      <td>English,Japanese,French</td>\n      <td>148.0</td>\n    </tr>\n    <tr>\n      <th>1</th>\n      <td>1</td>\n      <td>2</td>\n      <td>The Matrix</td>\n      <td>1999</td>\n      <td>18+</td>\n      <td>8.7</td>\n      <td>87%</td>\n      <td>1</td>\n      <td>0</td>\n      <td>0</td>\n      <td>0</td>\n      <td>0</td>\n      <td>Lana Wachowski,Lilly Wachowski</td>\n      <td>Action,Sci-Fi</td>\n      <td>United States</td>\n      <td>English</td>\n      <td>136.0</td>\n    </tr>\n    <tr>\n      <th>2</th>\n      <td>2</td>\n      <td>3</td>\n      <td>Avengers: Infinity War</td>\n      <td>2018</td>\n      <td>13+</td>\n      <td>8.5</td>\n      <td>84%</td>\n      <td>1</td>\n      <td>0</td>\n      <td>0</td>\n      <td>0</td>\n      <td>0</td>\n      <td>Anthony Russo,Joe Russo</td>\n      <td>Action,Adventure,Sci-Fi</td>\n      <td>United States</td>\n      <td>English</td>\n      <td>149.0</td>\n    </tr>\n    <tr>\n      <th>3</th>\n      <td>3</td>\n      <td>4</td>\n      <td>Back to the Future</td>\n      <td>1985</td>\n      <td>7+</td>\n      <td>8.5</td>\n      <td>96%</td>\n      <td>1</td>\n      <td>0</td>\n      <td>0</td>\n      <td>0</td>\n      <td>0</td>\n      <td>Robert Zemeckis</td>\n      <td>Adventure,Comedy,Sci-Fi</td>\n      <td>United States</td>\n      <td>English</td>\n      <td>116.0</td>\n    </tr>\n    <tr>\n      <th>4</th>\n      <td>4</td>\n      <td>5</td>\n      <td>The Good, the Bad and the Ugly</td>\n      <td>1966</td>\n      <td>18+</td>\n      <td>8.8</td>\n      <td>97%</td>\n      <td>1</td>\n      <td>0</td>\n      <td>1</td>\n      <td>0</td>\n      <td>0</td>\n      <td>Sergio Leone</td>\n      <td>Western</td>\n      <td>Italy,Spain,West Germany</td>\n      <td>Italian</td>\n      <td>161.0</td>\n    </tr>\n  </tbody>\n</table>\n</div>"
     },
     "metadata": {},
     "execution_count": 32
    }
   ],
   "source": [
    "streaming_list = \"Resources/Streaming_Platform.csv\"\n",
    "streaming_list_df = pd.read_csv(streaming_list)\n",
    "streaming_list_df.head()"
   ]
  },
  {
   "cell_type": "code",
   "execution_count": 33,
   "metadata": {},
   "outputs": [
    {
     "output_type": "execute_result",
     "data": {
      "text/plain": [
       "   Rank  Released           Movie Worldwide Box Office Domestic Box Office  \\\n",
       "0     1      2013          Frozen      $1,267,856,756        $400,953,009    \n",
       "1     3      2017            Coco        $798,237,597        $210,460,015    \n",
       "2     4      2016           Moana        $636,155,760        $248,757,044    \n",
       "3     6      2010         Tangled        $585,574,317        $200,821,936    \n",
       "4     9      2012  Les Misérables        $438,420,442        $148,809,770    \n",
       "\n",
       "  International Box Office  Unnamed: 0     ID           Title  Year  ...  \\\n",
       "0            $866,903,747        16243  16244          Frozen  2013  ...   \n",
       "1            $587,777,582        16221  16222            Coco  2017  ...   \n",
       "2            $387,398,716        16242  16243           Moana  2016  ...   \n",
       "3            $384,752,381        16246  16247         Tangled  2010  ...   \n",
       "4            $289,610,672         5328   5329  Les Misérables  2019  ...   \n",
       "\n",
       "  Netflix  Hulu Prime Video  Disney+  Type  \\\n",
       "0       0     0           0        1     0   \n",
       "1       0     0           0        1     0   \n",
       "2       0     0           0        1     0   \n",
       "3       0     0           0        1     0   \n",
       "4       0     0           1        0     0   \n",
       "\n",
       "                                          Directors  \\\n",
       "0                           Chris Buck,Jennifer Lee   \n",
       "1                         Lee Unkrich,Adrian Molina   \n",
       "2  Ron Clements,John Musker,Don Hall,Chris Williams   \n",
       "3                         Nathan Greno,Byron Howard   \n",
       "4                                        Tom Hooper   \n",
       "\n",
       "                                              Genres  \\\n",
       "0  Animation,Adventure,Comedy,Family,Fantasy,Musical   \n",
       "1   Animation,Adventure,Family,Fantasy,Music,Mystery   \n",
       "2  Animation,Adventure,Comedy,Family,Fantasy,Musical   \n",
       "3  Animation,Adventure,Comedy,Family,Fantasy,Musi...   \n",
       "4                  Drama,History,Musical,Romance,War   \n",
       "\n",
       "                        Country           Language Runtime  \n",
       "0                 United States  English,Norwegian   102.0  \n",
       "1                 United States    English,Spanish   105.0  \n",
       "2                 United States            English   107.0  \n",
       "3                 United States            English   100.0  \n",
       "4  United Kingdom,United States            English   158.0  \n",
       "\n",
       "[5 rows x 23 columns]"
      ],
      "text/html": "<div>\n<style scoped>\n    .dataframe tbody tr th:only-of-type {\n        vertical-align: middle;\n    }\n\n    .dataframe tbody tr th {\n        vertical-align: top;\n    }\n\n    .dataframe thead th {\n        text-align: right;\n    }\n</style>\n<table border=\"1\" class=\"dataframe\">\n  <thead>\n    <tr style=\"text-align: right;\">\n      <th></th>\n      <th>Rank</th>\n      <th>Released</th>\n      <th>Movie</th>\n      <th>Worldwide Box Office</th>\n      <th>Domestic Box Office</th>\n      <th>International Box Office</th>\n      <th>Unnamed: 0</th>\n      <th>ID</th>\n      <th>Title</th>\n      <th>Year</th>\n      <th>...</th>\n      <th>Netflix</th>\n      <th>Hulu</th>\n      <th>Prime Video</th>\n      <th>Disney+</th>\n      <th>Type</th>\n      <th>Directors</th>\n      <th>Genres</th>\n      <th>Country</th>\n      <th>Language</th>\n      <th>Runtime</th>\n    </tr>\n  </thead>\n  <tbody>\n    <tr>\n      <th>0</th>\n      <td>1</td>\n      <td>2013</td>\n      <td>Frozen</td>\n      <td>$1,267,856,756</td>\n      <td>$400,953,009</td>\n      <td>$866,903,747</td>\n      <td>16243</td>\n      <td>16244</td>\n      <td>Frozen</td>\n      <td>2013</td>\n      <td>...</td>\n      <td>0</td>\n      <td>0</td>\n      <td>0</td>\n      <td>1</td>\n      <td>0</td>\n      <td>Chris Buck,Jennifer Lee</td>\n      <td>Animation,Adventure,Comedy,Family,Fantasy,Musical</td>\n      <td>United States</td>\n      <td>English,Norwegian</td>\n      <td>102.0</td>\n    </tr>\n    <tr>\n      <th>1</th>\n      <td>3</td>\n      <td>2017</td>\n      <td>Coco</td>\n      <td>$798,237,597</td>\n      <td>$210,460,015</td>\n      <td>$587,777,582</td>\n      <td>16221</td>\n      <td>16222</td>\n      <td>Coco</td>\n      <td>2017</td>\n      <td>...</td>\n      <td>0</td>\n      <td>0</td>\n      <td>0</td>\n      <td>1</td>\n      <td>0</td>\n      <td>Lee Unkrich,Adrian Molina</td>\n      <td>Animation,Adventure,Family,Fantasy,Music,Mystery</td>\n      <td>United States</td>\n      <td>English,Spanish</td>\n      <td>105.0</td>\n    </tr>\n    <tr>\n      <th>2</th>\n      <td>4</td>\n      <td>2016</td>\n      <td>Moana</td>\n      <td>$636,155,760</td>\n      <td>$248,757,044</td>\n      <td>$387,398,716</td>\n      <td>16242</td>\n      <td>16243</td>\n      <td>Moana</td>\n      <td>2016</td>\n      <td>...</td>\n      <td>0</td>\n      <td>0</td>\n      <td>0</td>\n      <td>1</td>\n      <td>0</td>\n      <td>Ron Clements,John Musker,Don Hall,Chris Williams</td>\n      <td>Animation,Adventure,Comedy,Family,Fantasy,Musical</td>\n      <td>United States</td>\n      <td>English</td>\n      <td>107.0</td>\n    </tr>\n    <tr>\n      <th>3</th>\n      <td>6</td>\n      <td>2010</td>\n      <td>Tangled</td>\n      <td>$585,574,317</td>\n      <td>$200,821,936</td>\n      <td>$384,752,381</td>\n      <td>16246</td>\n      <td>16247</td>\n      <td>Tangled</td>\n      <td>2010</td>\n      <td>...</td>\n      <td>0</td>\n      <td>0</td>\n      <td>0</td>\n      <td>1</td>\n      <td>0</td>\n      <td>Nathan Greno,Byron Howard</td>\n      <td>Animation,Adventure,Comedy,Family,Fantasy,Musi...</td>\n      <td>United States</td>\n      <td>English</td>\n      <td>100.0</td>\n    </tr>\n    <tr>\n      <th>4</th>\n      <td>9</td>\n      <td>2012</td>\n      <td>Les Misérables</td>\n      <td>$438,420,442</td>\n      <td>$148,809,770</td>\n      <td>$289,610,672</td>\n      <td>5328</td>\n      <td>5329</td>\n      <td>Les Misérables</td>\n      <td>2019</td>\n      <td>...</td>\n      <td>0</td>\n      <td>0</td>\n      <td>1</td>\n      <td>0</td>\n      <td>0</td>\n      <td>Tom Hooper</td>\n      <td>Drama,History,Musical,Romance,War</td>\n      <td>United Kingdom,United States</td>\n      <td>English</td>\n      <td>158.0</td>\n    </tr>\n  </tbody>\n</table>\n<p>5 rows × 23 columns</p>\n</div>"
     },
     "metadata": {},
     "execution_count": 33
    }
   ],
   "source": [
    "merged_df = pd.merge(musical_list_df, streaming_list_df, right_on = \"Title\", left_on = \"Movie\")\n",
    "\n",
    "merged_df.head()"
   ]
  },
  {
   "cell_type": "code",
   "execution_count": 34,
   "metadata": {},
   "outputs": [
    {
     "output_type": "execute_result",
     "data": {
      "text/plain": [
       "   Rank  Released           Movie  Netflix  Hulu  Prime Video  Disney+\n",
       "0     1      2013          Frozen        0     0            0        1\n",
       "1     3      2017            Coco        0     0            0        1\n",
       "2     4      2016           Moana        0     0            0        1\n",
       "3     6      2010         Tangled        0     0            0        1\n",
       "4     9      2012  Les Misérables        0     0            1        0"
      ],
      "text/html": "<div>\n<style scoped>\n    .dataframe tbody tr th:only-of-type {\n        vertical-align: middle;\n    }\n\n    .dataframe tbody tr th {\n        vertical-align: top;\n    }\n\n    .dataframe thead th {\n        text-align: right;\n    }\n</style>\n<table border=\"1\" class=\"dataframe\">\n  <thead>\n    <tr style=\"text-align: right;\">\n      <th></th>\n      <th>Rank</th>\n      <th>Released</th>\n      <th>Movie</th>\n      <th>Netflix</th>\n      <th>Hulu</th>\n      <th>Prime Video</th>\n      <th>Disney+</th>\n    </tr>\n  </thead>\n  <tbody>\n    <tr>\n      <th>0</th>\n      <td>1</td>\n      <td>2013</td>\n      <td>Frozen</td>\n      <td>0</td>\n      <td>0</td>\n      <td>0</td>\n      <td>1</td>\n    </tr>\n    <tr>\n      <th>1</th>\n      <td>3</td>\n      <td>2017</td>\n      <td>Coco</td>\n      <td>0</td>\n      <td>0</td>\n      <td>0</td>\n      <td>1</td>\n    </tr>\n    <tr>\n      <th>2</th>\n      <td>4</td>\n      <td>2016</td>\n      <td>Moana</td>\n      <td>0</td>\n      <td>0</td>\n      <td>0</td>\n      <td>1</td>\n    </tr>\n    <tr>\n      <th>3</th>\n      <td>6</td>\n      <td>2010</td>\n      <td>Tangled</td>\n      <td>0</td>\n      <td>0</td>\n      <td>0</td>\n      <td>1</td>\n    </tr>\n    <tr>\n      <th>4</th>\n      <td>9</td>\n      <td>2012</td>\n      <td>Les Misérables</td>\n      <td>0</td>\n      <td>0</td>\n      <td>1</td>\n      <td>0</td>\n    </tr>\n  </tbody>\n</table>\n</div>"
     },
     "metadata": {},
     "execution_count": 34
    }
   ],
   "source": [
    "streamable_df = merged_df[['Rank', 'Released', 'Movie', 'Netflix', 'Hulu', 'Prime Video', 'Disney+']]\n",
    "\n",
    "streamable_df.head()"
   ]
  },
  {
   "cell_type": "code",
   "execution_count": 35,
   "metadata": {},
   "outputs": [
    {
     "output_type": "execute_result",
     "data": {
      "text/plain": [
       "  Rank  Released           Movie Netflix Hulu Prime Video Disney+\n",
       "0  Yes      2013          Frozen                              Yes\n",
       "1    3      2017            Coco                              Yes\n",
       "2    4      2016           Moana                              Yes\n",
       "3    6      2010         Tangled                              Yes\n",
       "4    9      2012  Les Misérables                      Yes        "
      ],
      "text/html": "<div>\n<style scoped>\n    .dataframe tbody tr th:only-of-type {\n        vertical-align: middle;\n    }\n\n    .dataframe tbody tr th {\n        vertical-align: top;\n    }\n\n    .dataframe thead th {\n        text-align: right;\n    }\n</style>\n<table border=\"1\" class=\"dataframe\">\n  <thead>\n    <tr style=\"text-align: right;\">\n      <th></th>\n      <th>Rank</th>\n      <th>Released</th>\n      <th>Movie</th>\n      <th>Netflix</th>\n      <th>Hulu</th>\n      <th>Prime Video</th>\n      <th>Disney+</th>\n    </tr>\n  </thead>\n  <tbody>\n    <tr>\n      <th>0</th>\n      <td>Yes</td>\n      <td>2013</td>\n      <td>Frozen</td>\n      <td></td>\n      <td></td>\n      <td></td>\n      <td>Yes</td>\n    </tr>\n    <tr>\n      <th>1</th>\n      <td>3</td>\n      <td>2017</td>\n      <td>Coco</td>\n      <td></td>\n      <td></td>\n      <td></td>\n      <td>Yes</td>\n    </tr>\n    <tr>\n      <th>2</th>\n      <td>4</td>\n      <td>2016</td>\n      <td>Moana</td>\n      <td></td>\n      <td></td>\n      <td></td>\n      <td>Yes</td>\n    </tr>\n    <tr>\n      <th>3</th>\n      <td>6</td>\n      <td>2010</td>\n      <td>Tangled</td>\n      <td></td>\n      <td></td>\n      <td></td>\n      <td>Yes</td>\n    </tr>\n    <tr>\n      <th>4</th>\n      <td>9</td>\n      <td>2012</td>\n      <td>Les Misérables</td>\n      <td></td>\n      <td></td>\n      <td>Yes</td>\n      <td></td>\n    </tr>\n  </tbody>\n</table>\n</div>"
     },
     "metadata": {},
     "execution_count": 35
    }
   ],
   "source": [
    "streamable_df = streamable_df.replace([1], ['Yes'])\n",
    "streamable_df = streamable_df.replace([0], [''])\n",
    "\n",
    "streamable_df.head()"
   ]
  },
  {
   "cell_type": "code",
   "execution_count": 36,
   "metadata": {},
   "outputs": [
    {
     "output_type": "execute_result",
     "data": {
      "text/plain": [
       "            Movie  Released                                         Directors  \\\n",
       "0          Frozen      2013                           Chris Buck,Jennifer Lee   \n",
       "1            Coco      2017                         Lee Unkrich,Adrian Molina   \n",
       "2           Moana      2016  Ron Clements,John Musker,Don Hall,Chris Williams   \n",
       "3         Tangled      2010                         Nathan Greno,Byron Howard   \n",
       "4  Les Misérables      2012                                        Tom Hooper   \n",
       "\n",
       "                                              Genres  \\\n",
       "0  Animation,Adventure,Comedy,Family,Fantasy,Musical   \n",
       "1   Animation,Adventure,Family,Fantasy,Music,Mystery   \n",
       "2  Animation,Adventure,Comedy,Family,Fantasy,Musical   \n",
       "3  Animation,Adventure,Comedy,Family,Fantasy,Musi...   \n",
       "4                  Drama,History,Musical,Romance,War   \n",
       "\n",
       "                        Country           Language  Runtime  \n",
       "0                 United States  English,Norwegian    102.0  \n",
       "1                 United States    English,Spanish    105.0  \n",
       "2                 United States            English    107.0  \n",
       "3                 United States            English    100.0  \n",
       "4  United Kingdom,United States            English    158.0  "
      ],
      "text/html": "<div>\n<style scoped>\n    .dataframe tbody tr th:only-of-type {\n        vertical-align: middle;\n    }\n\n    .dataframe tbody tr th {\n        vertical-align: top;\n    }\n\n    .dataframe thead th {\n        text-align: right;\n    }\n</style>\n<table border=\"1\" class=\"dataframe\">\n  <thead>\n    <tr style=\"text-align: right;\">\n      <th></th>\n      <th>Movie</th>\n      <th>Released</th>\n      <th>Directors</th>\n      <th>Genres</th>\n      <th>Country</th>\n      <th>Language</th>\n      <th>Runtime</th>\n    </tr>\n  </thead>\n  <tbody>\n    <tr>\n      <th>0</th>\n      <td>Frozen</td>\n      <td>2013</td>\n      <td>Chris Buck,Jennifer Lee</td>\n      <td>Animation,Adventure,Comedy,Family,Fantasy,Musical</td>\n      <td>United States</td>\n      <td>English,Norwegian</td>\n      <td>102.0</td>\n    </tr>\n    <tr>\n      <th>1</th>\n      <td>Coco</td>\n      <td>2017</td>\n      <td>Lee Unkrich,Adrian Molina</td>\n      <td>Animation,Adventure,Family,Fantasy,Music,Mystery</td>\n      <td>United States</td>\n      <td>English,Spanish</td>\n      <td>105.0</td>\n    </tr>\n    <tr>\n      <th>2</th>\n      <td>Moana</td>\n      <td>2016</td>\n      <td>Ron Clements,John Musker,Don Hall,Chris Williams</td>\n      <td>Animation,Adventure,Comedy,Family,Fantasy,Musical</td>\n      <td>United States</td>\n      <td>English</td>\n      <td>107.0</td>\n    </tr>\n    <tr>\n      <th>3</th>\n      <td>Tangled</td>\n      <td>2010</td>\n      <td>Nathan Greno,Byron Howard</td>\n      <td>Animation,Adventure,Comedy,Family,Fantasy,Musi...</td>\n      <td>United States</td>\n      <td>English</td>\n      <td>100.0</td>\n    </tr>\n    <tr>\n      <th>4</th>\n      <td>Les Misérables</td>\n      <td>2012</td>\n      <td>Tom Hooper</td>\n      <td>Drama,History,Musical,Romance,War</td>\n      <td>United Kingdom,United States</td>\n      <td>English</td>\n      <td>158.0</td>\n    </tr>\n  </tbody>\n</table>\n</div>"
     },
     "metadata": {},
     "execution_count": 36
    }
   ],
   "source": [
    "movie_info_df = merged_df[['Movie', 'Released', 'Directors', 'Genres', 'Country', 'Language', 'Runtime']]\n",
    "\n",
    "movie_info_df.head()"
   ]
  },
  {
   "cell_type": "code",
   "execution_count": 37,
   "metadata": {},
   "outputs": [],
   "source": [
    "#Update the below connection statement with your password before progressing \n",
    "rds_connection_string = \"postgres:{password}!@localhost:5432/Movie_ETL\"\n",
    "engine = create_engine(f'postgresql://{rds_connection_string}')"
   ]
  },
  {
   "cell_type": "code",
   "execution_count": 38,
   "metadata": {},
   "outputs": [
    {
     "output_type": "execute_result",
     "data": {
      "text/plain": [
       "['Streaming_Info', 'Movie_Info']"
      ]
     },
     "metadata": {},
     "execution_count": 38
    }
   ],
   "source": [
    "engine.table_names()"
   ]
  },
  {
   "cell_type": "code",
   "execution_count": 39,
   "metadata": {},
   "outputs": [],
   "source": [
    "streamable_df.to_sql(name = \"Streaming_Info\", con=engine, if_exists='replace', index = False)"
   ]
  },
  {
   "cell_type": "code",
   "execution_count": 40,
   "metadata": {},
   "outputs": [],
   "source": [
    "movie_info_df.to_sql(name = \"Movie_Info\", con=engine, if_exists='replace', index = False)"
   ]
  }
 ]
}